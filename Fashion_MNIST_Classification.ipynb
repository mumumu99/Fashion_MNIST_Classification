{
  "nbformat": 4,
  "nbformat_minor": 0,
  "metadata": {
    "colab": {
      "name": "Fashion-MNIST Classification.ipynb",
      "provenance": [],
      "collapsed_sections": [],
      "mount_file_id": "1If9mp1zqrO72F4AgAMpz812SCML6PlCt",
      "authorship_tag": "ABX9TyOgVFZDYJnpB5uT+Fj2grmr",
      "include_colab_link": true
    },
    "kernelspec": {
      "name": "python3",
      "display_name": "Python 3"
    },
    "accelerator": "GPU"
  },
  "cells": [
    {
      "cell_type": "markdown",
      "metadata": {
        "id": "view-in-github",
        "colab_type": "text"
      },
      "source": [
        "<a href=\"https://colab.research.google.com/github/mumumu99/Fashion_MNIST_Classification/blob/main/Fashion_MNIST_Classification.ipynb\" target=\"_parent\"><img src=\"https://colab.research.google.com/assets/colab-badge.svg\" alt=\"Open In Colab\"/></a>"
      ]
    },
    {
      "cell_type": "code",
      "metadata": {
        "colab": {
          "base_uri": "https://localhost:8080/"
        },
        "id": "cELuYwRWhlVx",
        "outputId": "125b575f-a7ea-49bd-c08e-ba33775eb6f6"
      },
      "source": [
        "#라이프러리 설정\r\n",
        "import pandas as pd\r\n",
        "import numpy as np\r\n",
        "import tensorflow as tf\r\n",
        "import random\r\n",
        "\r\n",
        "#랜덤 시드 고정\r\n",
        "SEED = 12\r\n",
        "random.seed(SEED)\r\n",
        "np.random.seed(SEED)\r\n",
        "tf.random.set_seed(SEED)\r\n",
        "\r\n",
        "#구글드라이브 폴더 마운트\r\n",
        "from google.colab import drive, files\r\n",
        "drive.mount('/gdrive')"
      ],
      "execution_count": 1,
      "outputs": [
        {
          "output_type": "stream",
          "text": [
            "Mounted at /gdrive\n"
          ],
          "name": "stdout"
        }
      ]
    },
    {
      "cell_type": "code",
      "metadata": {
        "colab": {
          "base_uri": "https://localhost:8080/"
        },
        "id": "7fzyqxhZi3D2",
        "outputId": "2fa6ed88-a08b-4450-cb34-393a9d928fdb"
      },
      "source": [
        "#CSV 파일 읽어오기\r\n",
        "drive_path = \"/gdrive/MyDrive/\"\r\n",
        "train = pd.read_csv(drive_path + \"mnist_data/train.csv\")\r\n",
        "test = pd.read_csv(drive_path + \"mnist_data/test.csv\")\r\n",
        "submission = pd.read_csv(drive_path + \"mnist_data/sample_submission.csv\")\r\n",
        "\r\n",
        "train.shape, test.shape, submission.shape"
      ],
      "execution_count": 2,
      "outputs": [
        {
          "output_type": "execute_result",
          "data": {
            "text/plain": [
              "((60000, 786), (10000, 785), (10000, 2))"
            ]
          },
          "metadata": {
            "tags": []
          },
          "execution_count": 2
        }
      ]
    },
    {
      "cell_type": "code",
      "metadata": {
        "colab": {
          "base_uri": "https://localhost:8080/",
          "height": 253
        },
        "id": "Do5I-I2_pP8m",
        "outputId": "b93e750d-b477-42f5-a1bb-0759a4981d3b"
      },
      "source": [
        "#train 데이터 보기\r\n",
        "train.head()"
      ],
      "execution_count": 3,
      "outputs": [
        {
          "output_type": "execute_result",
          "data": {
            "text/html": [
              "<div>\n",
              "<style scoped>\n",
              "    .dataframe tbody tr th:only-of-type {\n",
              "        vertical-align: middle;\n",
              "    }\n",
              "\n",
              "    .dataframe tbody tr th {\n",
              "        vertical-align: top;\n",
              "    }\n",
              "\n",
              "    .dataframe thead th {\n",
              "        text-align: right;\n",
              "    }\n",
              "</style>\n",
              "<table border=\"1\" class=\"dataframe\">\n",
              "  <thead>\n",
              "    <tr style=\"text-align: right;\">\n",
              "      <th></th>\n",
              "      <th>index</th>\n",
              "      <th>label</th>\n",
              "      <th>pixel1</th>\n",
              "      <th>pixel2</th>\n",
              "      <th>pixel3</th>\n",
              "      <th>pixel4</th>\n",
              "      <th>pixel5</th>\n",
              "      <th>pixel6</th>\n",
              "      <th>pixel7</th>\n",
              "      <th>pixel8</th>\n",
              "      <th>pixel9</th>\n",
              "      <th>pixel10</th>\n",
              "      <th>pixel11</th>\n",
              "      <th>pixel12</th>\n",
              "      <th>pixel13</th>\n",
              "      <th>pixel14</th>\n",
              "      <th>pixel15</th>\n",
              "      <th>pixel16</th>\n",
              "      <th>pixel17</th>\n",
              "      <th>pixel18</th>\n",
              "      <th>pixel19</th>\n",
              "      <th>pixel20</th>\n",
              "      <th>pixel21</th>\n",
              "      <th>pixel22</th>\n",
              "      <th>pixel23</th>\n",
              "      <th>pixel24</th>\n",
              "      <th>pixel25</th>\n",
              "      <th>pixel26</th>\n",
              "      <th>pixel27</th>\n",
              "      <th>pixel28</th>\n",
              "      <th>pixel29</th>\n",
              "      <th>pixel30</th>\n",
              "      <th>pixel31</th>\n",
              "      <th>pixel32</th>\n",
              "      <th>pixel33</th>\n",
              "      <th>pixel34</th>\n",
              "      <th>pixel35</th>\n",
              "      <th>pixel36</th>\n",
              "      <th>pixel37</th>\n",
              "      <th>pixel38</th>\n",
              "      <th>...</th>\n",
              "      <th>pixel745</th>\n",
              "      <th>pixel746</th>\n",
              "      <th>pixel747</th>\n",
              "      <th>pixel748</th>\n",
              "      <th>pixel749</th>\n",
              "      <th>pixel750</th>\n",
              "      <th>pixel751</th>\n",
              "      <th>pixel752</th>\n",
              "      <th>pixel753</th>\n",
              "      <th>pixel754</th>\n",
              "      <th>pixel755</th>\n",
              "      <th>pixel756</th>\n",
              "      <th>pixel757</th>\n",
              "      <th>pixel758</th>\n",
              "      <th>pixel759</th>\n",
              "      <th>pixel760</th>\n",
              "      <th>pixel761</th>\n",
              "      <th>pixel762</th>\n",
              "      <th>pixel763</th>\n",
              "      <th>pixel764</th>\n",
              "      <th>pixel765</th>\n",
              "      <th>pixel766</th>\n",
              "      <th>pixel767</th>\n",
              "      <th>pixel768</th>\n",
              "      <th>pixel769</th>\n",
              "      <th>pixel770</th>\n",
              "      <th>pixel771</th>\n",
              "      <th>pixel772</th>\n",
              "      <th>pixel773</th>\n",
              "      <th>pixel774</th>\n",
              "      <th>pixel775</th>\n",
              "      <th>pixel776</th>\n",
              "      <th>pixel777</th>\n",
              "      <th>pixel778</th>\n",
              "      <th>pixel779</th>\n",
              "      <th>pixel780</th>\n",
              "      <th>pixel781</th>\n",
              "      <th>pixel782</th>\n",
              "      <th>pixel783</th>\n",
              "      <th>pixel784</th>\n",
              "    </tr>\n",
              "  </thead>\n",
              "  <tbody>\n",
              "    <tr>\n",
              "      <th>0</th>\n",
              "      <td>0</td>\n",
              "      <td>2</td>\n",
              "      <td>0</td>\n",
              "      <td>0</td>\n",
              "      <td>0</td>\n",
              "      <td>0</td>\n",
              "      <td>0</td>\n",
              "      <td>0</td>\n",
              "      <td>0</td>\n",
              "      <td>0</td>\n",
              "      <td>0</td>\n",
              "      <td>0</td>\n",
              "      <td>0</td>\n",
              "      <td>0</td>\n",
              "      <td>0</td>\n",
              "      <td>0</td>\n",
              "      <td>0</td>\n",
              "      <td>0</td>\n",
              "      <td>0</td>\n",
              "      <td>0</td>\n",
              "      <td>0</td>\n",
              "      <td>0</td>\n",
              "      <td>0</td>\n",
              "      <td>0</td>\n",
              "      <td>0</td>\n",
              "      <td>0</td>\n",
              "      <td>0</td>\n",
              "      <td>0</td>\n",
              "      <td>0</td>\n",
              "      <td>0</td>\n",
              "      <td>0</td>\n",
              "      <td>0</td>\n",
              "      <td>0</td>\n",
              "      <td>0</td>\n",
              "      <td>0</td>\n",
              "      <td>0</td>\n",
              "      <td>0</td>\n",
              "      <td>0</td>\n",
              "      <td>0</td>\n",
              "      <td>0</td>\n",
              "      <td>...</td>\n",
              "      <td>0</td>\n",
              "      <td>0</td>\n",
              "      <td>0</td>\n",
              "      <td>0</td>\n",
              "      <td>0</td>\n",
              "      <td>0</td>\n",
              "      <td>0</td>\n",
              "      <td>0</td>\n",
              "      <td>0</td>\n",
              "      <td>0</td>\n",
              "      <td>0</td>\n",
              "      <td>0</td>\n",
              "      <td>0</td>\n",
              "      <td>0</td>\n",
              "      <td>0</td>\n",
              "      <td>0</td>\n",
              "      <td>0</td>\n",
              "      <td>0</td>\n",
              "      <td>0</td>\n",
              "      <td>0</td>\n",
              "      <td>0</td>\n",
              "      <td>0</td>\n",
              "      <td>0</td>\n",
              "      <td>0</td>\n",
              "      <td>0</td>\n",
              "      <td>0</td>\n",
              "      <td>0</td>\n",
              "      <td>0</td>\n",
              "      <td>0</td>\n",
              "      <td>0</td>\n",
              "      <td>0</td>\n",
              "      <td>0</td>\n",
              "      <td>0</td>\n",
              "      <td>0</td>\n",
              "      <td>0</td>\n",
              "      <td>0</td>\n",
              "      <td>0</td>\n",
              "      <td>0</td>\n",
              "      <td>0</td>\n",
              "      <td>0</td>\n",
              "    </tr>\n",
              "    <tr>\n",
              "      <th>1</th>\n",
              "      <td>1</td>\n",
              "      <td>9</td>\n",
              "      <td>0</td>\n",
              "      <td>0</td>\n",
              "      <td>0</td>\n",
              "      <td>0</td>\n",
              "      <td>0</td>\n",
              "      <td>0</td>\n",
              "      <td>0</td>\n",
              "      <td>0</td>\n",
              "      <td>0</td>\n",
              "      <td>0</td>\n",
              "      <td>0</td>\n",
              "      <td>0</td>\n",
              "      <td>0</td>\n",
              "      <td>0</td>\n",
              "      <td>0</td>\n",
              "      <td>0</td>\n",
              "      <td>0</td>\n",
              "      <td>0</td>\n",
              "      <td>0</td>\n",
              "      <td>0</td>\n",
              "      <td>0</td>\n",
              "      <td>0</td>\n",
              "      <td>0</td>\n",
              "      <td>0</td>\n",
              "      <td>0</td>\n",
              "      <td>0</td>\n",
              "      <td>0</td>\n",
              "      <td>0</td>\n",
              "      <td>0</td>\n",
              "      <td>0</td>\n",
              "      <td>0</td>\n",
              "      <td>0</td>\n",
              "      <td>0</td>\n",
              "      <td>0</td>\n",
              "      <td>0</td>\n",
              "      <td>0</td>\n",
              "      <td>0</td>\n",
              "      <td>0</td>\n",
              "      <td>...</td>\n",
              "      <td>0</td>\n",
              "      <td>0</td>\n",
              "      <td>0</td>\n",
              "      <td>0</td>\n",
              "      <td>0</td>\n",
              "      <td>0</td>\n",
              "      <td>0</td>\n",
              "      <td>0</td>\n",
              "      <td>0</td>\n",
              "      <td>0</td>\n",
              "      <td>0</td>\n",
              "      <td>0</td>\n",
              "      <td>0</td>\n",
              "      <td>0</td>\n",
              "      <td>0</td>\n",
              "      <td>0</td>\n",
              "      <td>0</td>\n",
              "      <td>0</td>\n",
              "      <td>0</td>\n",
              "      <td>0</td>\n",
              "      <td>0</td>\n",
              "      <td>0</td>\n",
              "      <td>0</td>\n",
              "      <td>0</td>\n",
              "      <td>0</td>\n",
              "      <td>0</td>\n",
              "      <td>0</td>\n",
              "      <td>0</td>\n",
              "      <td>0</td>\n",
              "      <td>0</td>\n",
              "      <td>0</td>\n",
              "      <td>0</td>\n",
              "      <td>0</td>\n",
              "      <td>0</td>\n",
              "      <td>0</td>\n",
              "      <td>0</td>\n",
              "      <td>0</td>\n",
              "      <td>0</td>\n",
              "      <td>0</td>\n",
              "      <td>0</td>\n",
              "    </tr>\n",
              "    <tr>\n",
              "      <th>2</th>\n",
              "      <td>2</td>\n",
              "      <td>6</td>\n",
              "      <td>0</td>\n",
              "      <td>0</td>\n",
              "      <td>0</td>\n",
              "      <td>0</td>\n",
              "      <td>0</td>\n",
              "      <td>0</td>\n",
              "      <td>0</td>\n",
              "      <td>5</td>\n",
              "      <td>0</td>\n",
              "      <td>0</td>\n",
              "      <td>0</td>\n",
              "      <td>105</td>\n",
              "      <td>92</td>\n",
              "      <td>101</td>\n",
              "      <td>107</td>\n",
              "      <td>100</td>\n",
              "      <td>132</td>\n",
              "      <td>0</td>\n",
              "      <td>0</td>\n",
              "      <td>2</td>\n",
              "      <td>4</td>\n",
              "      <td>0</td>\n",
              "      <td>1</td>\n",
              "      <td>0</td>\n",
              "      <td>0</td>\n",
              "      <td>0</td>\n",
              "      <td>0</td>\n",
              "      <td>0</td>\n",
              "      <td>0</td>\n",
              "      <td>0</td>\n",
              "      <td>0</td>\n",
              "      <td>0</td>\n",
              "      <td>0</td>\n",
              "      <td>0</td>\n",
              "      <td>0</td>\n",
              "      <td>0</td>\n",
              "      <td>0</td>\n",
              "      <td>0</td>\n",
              "      <td>...</td>\n",
              "      <td>211</td>\n",
              "      <td>220</td>\n",
              "      <td>214</td>\n",
              "      <td>74</td>\n",
              "      <td>0</td>\n",
              "      <td>255</td>\n",
              "      <td>222</td>\n",
              "      <td>128</td>\n",
              "      <td>0</td>\n",
              "      <td>0</td>\n",
              "      <td>0</td>\n",
              "      <td>0</td>\n",
              "      <td>0</td>\n",
              "      <td>0</td>\n",
              "      <td>0</td>\n",
              "      <td>0</td>\n",
              "      <td>0</td>\n",
              "      <td>44</td>\n",
              "      <td>12</td>\n",
              "      <td>0</td>\n",
              "      <td>0</td>\n",
              "      <td>40</td>\n",
              "      <td>134</td>\n",
              "      <td>162</td>\n",
              "      <td>191</td>\n",
              "      <td>214</td>\n",
              "      <td>163</td>\n",
              "      <td>146</td>\n",
              "      <td>165</td>\n",
              "      <td>79</td>\n",
              "      <td>0</td>\n",
              "      <td>0</td>\n",
              "      <td>0</td>\n",
              "      <td>30</td>\n",
              "      <td>43</td>\n",
              "      <td>0</td>\n",
              "      <td>0</td>\n",
              "      <td>0</td>\n",
              "      <td>0</td>\n",
              "      <td>0</td>\n",
              "    </tr>\n",
              "    <tr>\n",
              "      <th>3</th>\n",
              "      <td>3</td>\n",
              "      <td>0</td>\n",
              "      <td>0</td>\n",
              "      <td>0</td>\n",
              "      <td>0</td>\n",
              "      <td>1</td>\n",
              "      <td>2</td>\n",
              "      <td>0</td>\n",
              "      <td>0</td>\n",
              "      <td>0</td>\n",
              "      <td>0</td>\n",
              "      <td>0</td>\n",
              "      <td>114</td>\n",
              "      <td>183</td>\n",
              "      <td>112</td>\n",
              "      <td>55</td>\n",
              "      <td>23</td>\n",
              "      <td>72</td>\n",
              "      <td>102</td>\n",
              "      <td>165</td>\n",
              "      <td>160</td>\n",
              "      <td>28</td>\n",
              "      <td>0</td>\n",
              "      <td>0</td>\n",
              "      <td>0</td>\n",
              "      <td>1</td>\n",
              "      <td>0</td>\n",
              "      <td>0</td>\n",
              "      <td>0</td>\n",
              "      <td>0</td>\n",
              "      <td>0</td>\n",
              "      <td>0</td>\n",
              "      <td>0</td>\n",
              "      <td>0</td>\n",
              "      <td>1</td>\n",
              "      <td>0</td>\n",
              "      <td>0</td>\n",
              "      <td>24</td>\n",
              "      <td>188</td>\n",
              "      <td>163</td>\n",
              "      <td>...</td>\n",
              "      <td>171</td>\n",
              "      <td>249</td>\n",
              "      <td>207</td>\n",
              "      <td>197</td>\n",
              "      <td>202</td>\n",
              "      <td>45</td>\n",
              "      <td>0</td>\n",
              "      <td>3</td>\n",
              "      <td>0</td>\n",
              "      <td>0</td>\n",
              "      <td>0</td>\n",
              "      <td>0</td>\n",
              "      <td>0</td>\n",
              "      <td>0</td>\n",
              "      <td>0</td>\n",
              "      <td>0</td>\n",
              "      <td>0</td>\n",
              "      <td>0</td>\n",
              "      <td>1</td>\n",
              "      <td>0</td>\n",
              "      <td>0</td>\n",
              "      <td>0</td>\n",
              "      <td>22</td>\n",
              "      <td>21</td>\n",
              "      <td>25</td>\n",
              "      <td>69</td>\n",
              "      <td>52</td>\n",
              "      <td>45</td>\n",
              "      <td>74</td>\n",
              "      <td>39</td>\n",
              "      <td>3</td>\n",
              "      <td>0</td>\n",
              "      <td>0</td>\n",
              "      <td>0</td>\n",
              "      <td>0</td>\n",
              "      <td>1</td>\n",
              "      <td>0</td>\n",
              "      <td>0</td>\n",
              "      <td>0</td>\n",
              "      <td>0</td>\n",
              "    </tr>\n",
              "    <tr>\n",
              "      <th>4</th>\n",
              "      <td>4</td>\n",
              "      <td>3</td>\n",
              "      <td>0</td>\n",
              "      <td>0</td>\n",
              "      <td>0</td>\n",
              "      <td>0</td>\n",
              "      <td>0</td>\n",
              "      <td>0</td>\n",
              "      <td>0</td>\n",
              "      <td>0</td>\n",
              "      <td>0</td>\n",
              "      <td>0</td>\n",
              "      <td>0</td>\n",
              "      <td>0</td>\n",
              "      <td>46</td>\n",
              "      <td>0</td>\n",
              "      <td>21</td>\n",
              "      <td>68</td>\n",
              "      <td>0</td>\n",
              "      <td>0</td>\n",
              "      <td>0</td>\n",
              "      <td>0</td>\n",
              "      <td>0</td>\n",
              "      <td>0</td>\n",
              "      <td>0</td>\n",
              "      <td>0</td>\n",
              "      <td>0</td>\n",
              "      <td>0</td>\n",
              "      <td>0</td>\n",
              "      <td>0</td>\n",
              "      <td>0</td>\n",
              "      <td>0</td>\n",
              "      <td>0</td>\n",
              "      <td>0</td>\n",
              "      <td>0</td>\n",
              "      <td>0</td>\n",
              "      <td>0</td>\n",
              "      <td>0</td>\n",
              "      <td>25</td>\n",
              "      <td>187</td>\n",
              "      <td>...</td>\n",
              "      <td>230</td>\n",
              "      <td>237</td>\n",
              "      <td>229</td>\n",
              "      <td>0</td>\n",
              "      <td>0</td>\n",
              "      <td>1</td>\n",
              "      <td>0</td>\n",
              "      <td>0</td>\n",
              "      <td>0</td>\n",
              "      <td>0</td>\n",
              "      <td>0</td>\n",
              "      <td>0</td>\n",
              "      <td>0</td>\n",
              "      <td>0</td>\n",
              "      <td>0</td>\n",
              "      <td>0</td>\n",
              "      <td>0</td>\n",
              "      <td>0</td>\n",
              "      <td>0</td>\n",
              "      <td>0</td>\n",
              "      <td>0</td>\n",
              "      <td>68</td>\n",
              "      <td>116</td>\n",
              "      <td>112</td>\n",
              "      <td>136</td>\n",
              "      <td>147</td>\n",
              "      <td>144</td>\n",
              "      <td>121</td>\n",
              "      <td>102</td>\n",
              "      <td>63</td>\n",
              "      <td>0</td>\n",
              "      <td>0</td>\n",
              "      <td>0</td>\n",
              "      <td>0</td>\n",
              "      <td>0</td>\n",
              "      <td>0</td>\n",
              "      <td>0</td>\n",
              "      <td>0</td>\n",
              "      <td>0</td>\n",
              "      <td>0</td>\n",
              "    </tr>\n",
              "  </tbody>\n",
              "</table>\n",
              "<p>5 rows × 786 columns</p>\n",
              "</div>"
            ],
            "text/plain": [
              "   index  label  pixel1  pixel2  ...  pixel781  pixel782  pixel783  pixel784\n",
              "0      0      2       0       0  ...         0         0         0         0\n",
              "1      1      9       0       0  ...         0         0         0         0\n",
              "2      2      6       0       0  ...         0         0         0         0\n",
              "3      3      0       0       0  ...         0         0         0         0\n",
              "4      4      3       0       0  ...         0         0         0         0\n",
              "\n",
              "[5 rows x 786 columns]"
            ]
          },
          "metadata": {
            "tags": []
          },
          "execution_count": 3
        }
      ]
    },
    {
      "cell_type": "code",
      "metadata": {
        "colab": {
          "base_uri": "https://localhost:8080/"
        },
        "id": "xRGuYq0vpdhN",
        "outputId": "9108854e-8def-4e52-cf92-24330d02b86e"
      },
      "source": [
        "#train 데이터 28*28 이미지로 변환\r\n",
        "train_images = train.loc[:, 'pixel1':].values.reshape(-1, 28, 28)\r\n",
        "train_images.shape"
      ],
      "execution_count": 4,
      "outputs": [
        {
          "output_type": "execute_result",
          "data": {
            "text/plain": [
              "(60000, 28, 28)"
            ]
          },
          "metadata": {
            "tags": []
          },
          "execution_count": 4
        }
      ]
    },
    {
      "cell_type": "code",
      "metadata": {
        "colab": {
          "base_uri": "https://localhost:8080/",
          "height": 265
        },
        "id": "BFrUiawiFRSw",
        "outputId": "526d0756-a6eb-401a-91ed-117624128a9e"
      },
      "source": [
        "#첫 번째 이미지 출력\r\n",
        "import matplotlib.pyplot as plt\r\n",
        "plt.imshow(train_images[0]);"
      ],
      "execution_count": 5,
      "outputs": [
        {
          "output_type": "display_data",
          "data": {
            "image/png": "[encoded data removed]",
            "text/plain": [
              "<Figure size 432x288 with 1 Axes>"
            ]
          },
          "metadata": {
            "tags": [],
            "needs_background": "light"
          }
        }
      ]
    },
    {
      "cell_type": "code",
      "metadata": {
        "colab": {
          "base_uri": "https://localhost:8080/"
        },
        "id": "_albBK2GEvew",
        "outputId": "74631d73-82c4-4c06-bd1f-390f1b3593ac"
      },
      "source": [
        "#목표 레이블\r\n",
        "y_train = train.loc[:, 'label']\r\n",
        "y_train.unique()"
      ],
      "execution_count": 6,
      "outputs": [
        {
          "output_type": "execute_result",
          "data": {
            "text/plain": [
              "array([2, 9, 6, 0, 3, 4, 5, 8, 7, 1])"
            ]
          },
          "metadata": {
            "tags": []
          },
          "execution_count": 6
        }
      ]
    },
    {
      "cell_type": "code",
      "metadata": {
        "colab": {
          "base_uri": "https://localhost:8080/"
        },
        "id": "m4-SaMtrFkun",
        "outputId": "ad14bc43-a7f0-4cf2-cf26-f4a4d20a2f41"
      },
      "source": [
        "#숫자 레이블을 실제 레이블과 연결하여 확인\r\n",
        "target_values = {0:'T-shirt/top',\r\n",
        "                 1:'Trouser',\r\n",
        "                 2:'Pullover',\r\n",
        "                 3:'Dress',\r\n",
        "                 4:'Coat',\r\n",
        "                 5:'Sandal',\r\n",
        "                 6:'Shirt',\r\n",
        "                 7:'Sneeker',\r\n",
        "                 8:'Bag',\r\n",
        "                 9:'Ankel boot'}\r\n",
        "print(y_train[0])\r\n",
        "print(target_values[y_train[0]])"
      ],
      "execution_count": 7,
      "outputs": [
        {
          "output_type": "stream",
          "text": [
            "2\n",
            "Pullover\n"
          ],
          "name": "stdout"
        }
      ]
    },
    {
      "cell_type": "code",
      "metadata": {
        "colab": {
          "base_uri": "https://localhost:8080/"
        },
        "id": "3n-e89T3NpAN",
        "outputId": "e004ed3a-5fb6-4890-d33e-9df5aa7edea8"
      },
      "source": [
        "#test 데이터 28*28 이미지로 변환\r\n",
        "test_images = test.loc[:, 'pixel1':].values.reshape(-1, 28, 28)\r\n",
        "test_images.shape"
      ],
      "execution_count": 8,
      "outputs": [
        {
          "output_type": "execute_result",
          "data": {
            "text/plain": [
              "(10000, 28, 28)"
            ]
          },
          "metadata": {
            "tags": []
          },
          "execution_count": 8
        }
      ]
    },
    {
      "cell_type": "code",
      "metadata": {
        "colab": {
          "base_uri": "https://localhost:8080/",
          "height": 283
        },
        "id": "U953tkoxN2Zw",
        "outputId": "9dac6f70-02a3-4968-d23e-44287c619d8c"
      },
      "source": [
        "#500번째 test 이미지\r\n",
        "plt.imshow(test_images[499])"
      ],
      "execution_count": 9,
      "outputs": [
        {
          "output_type": "execute_result",
          "data": {
            "text/plain": [
              "<matplotlib.image.AxesImage at 0x7fe15a10b490>"
            ]
          },
          "metadata": {
            "tags": []
          },
          "execution_count": 9
        },
        {
          "output_type": "display_data",
          "data": {
            "image/png": "[encoded data removed]",
            "text/plain": [
              "<Figure size 432x288 with 1 Axes>"
            ]
          },
          "metadata": {
            "tags": [],
            "needs_background": "light"
          }
        }
      ]
    },
    {
      "cell_type": "code",
      "metadata": {
        "colab": {
          "base_uri": "https://localhost:8080/"
        },
        "id": "nUxPv92LOGQX",
        "outputId": "b5130e7a-219a-49cb-b3c6-d23d3f37b50e"
      },
      "source": [
        "#피처 스케일 맞추기\r\n",
        "X_train = train_images / 255.\r\n",
        "X_test = test_images / 255.\r\n",
        "print(\"최소값:\", X_train[0].min())\r\n",
        "print(\"최대값:\", X_train[0].max())"
      ],
      "execution_count": 10,
      "outputs": [
        {
          "output_type": "stream",
          "text": [
            "최소값: 0.0\n",
            "최대값: 1.0\n"
          ],
          "name": "stdout"
        }
      ]
    },
    {
      "cell_type": "code",
      "metadata": {
        "colab": {
          "base_uri": "https://localhost:8080/"
        },
        "id": "uiSy6NkPOnS_",
        "outputId": "23f5782e-2785-479a-aded-04bab8708d69"
      },
      "source": [
        "#채널 차원 추가\r\n",
        "X_train = np.expand_dims(X_train, axis=-1)\r\n",
        "X_test = np.expand_dims(X_test, axis=-1)\r\n",
        "X_train.shape, X_test.shape"
      ],
      "execution_count": 11,
      "outputs": [
        {
          "output_type": "execute_result",
          "data": {
            "text/plain": [
              "((60000, 28, 28, 1), (10000, 28, 28, 1))"
            ]
          },
          "metadata": {
            "tags": []
          },
          "execution_count": 11
        }
      ]
    },
    {
      "cell_type": "code",
      "metadata": {
        "colab": {
          "base_uri": "https://localhost:8080/"
        },
        "id": "rbP1kwtPQT0X",
        "outputId": "74536de9-9148-455a-845c-3575113f7509"
      },
      "source": [
        "#Train-Validation 데이터 구분\r\n",
        "from sklearn.model_selection import train_test_split\r\n",
        "x_tr, x_val, y_tr, y_val = train_test_split(X_train, y_train, test_size=0.2,\r\n",
        "                                            stratify=y_train,\r\n",
        "                                            shuffle=True, random_state=SEED)\r\n",
        "print(\"학습 데이터셋 크기:\", x_tr.shape, y_tr.shape)\r\n",
        "print(\"검증 데이터셋 크기:\", x_val.shape, y_val.shape)"
      ],
      "execution_count": 12,
      "outputs": [
        {
          "output_type": "stream",
          "text": [
            "학습 데이터셋 크기: (48000, 28, 28, 1) (48000,)\n",
            "검증 데이터셋 크기: (12000, 28, 28, 1) (12000,)\n"
          ],
          "name": "stdout"
        }
      ]
    },
    {
      "cell_type": "code",
      "metadata": {
        "colab": {
          "base_uri": "https://localhost:8080/"
        },
        "id": "ueph0NJZSFYU",
        "outputId": "8645f49f-571d-4249-825b-e4a0ac267112"
      },
      "source": [
        "#MLP 모델 학습\r\n",
        "from tensorflow.keras.models import Sequential\r\n",
        "from tensorflow.keras.layers import Flatten, Dense\r\n",
        "mlp_model = Sequential()\r\n",
        "mlp_model.add(Flatten(input_shape=[28, 28]))\r\n",
        "mlp_model.add(Dense(units=64, activation='relu'))\r\n",
        "mlp_model.add(Dense(units=10, activation='softmax'))\r\n",
        "\r\n",
        "mlp_model.compile(optimizer='adam',\r\n",
        "              loss='sparse_categorical_crossentropy',\r\n",
        "              metrics=['acc'])\r\n",
        "mlp_model.summary()"
      ],
      "execution_count": 13,
      "outputs": [
        {
          "output_type": "stream",
          "text": [
            "Model: \"sequential\"\n",
            "_________________________________________________________________\n",
            "Layer (type)                 Output Shape              Param #   \n",
            "=================================================================\n",
            "flatten (Flatten)            (None, 784)               0         \n",
            "_________________________________________________________________\n",
            "dense (Dense)                (None, 64)                50240     \n",
            "_________________________________________________________________\n",
            "dense_1 (Dense)              (None, 10)                650       \n",
            "=================================================================\n",
            "Total params: 50,890\n",
            "Trainable params: 50,890\n",
            "Non-trainable params: 0\n",
            "_________________________________________________________________\n"
          ],
          "name": "stdout"
        }
      ]
    },
    {
      "cell_type": "code",
      "metadata": {
        "colab": {
          "base_uri": "https://localhost:8080/"
        },
        "id": "qbswV2VTT_ZM",
        "outputId": "4ea9a166-5ee7-4824-87cd-1d6728fea968"
      },
      "source": [
        "mlp_history = mlp_model.fit(x_tr, y_tr, batch_size=64, epochs=20,\r\n",
        "                    validation_data=(x_val, y_val),\r\n",
        "                    verbose=2)"
      ],
      "execution_count": 14,
      "outputs": [
        {
          "output_type": "stream",
          "text": [
            "Epoch 1/20\n",
            "750/750 - 4s - loss: 0.5735 - acc: 0.8021 - val_loss: 0.4506 - val_acc: 0.8426\n",
            "Epoch 2/20\n",
            "750/750 - 1s - loss: 0.4224 - acc: 0.8495 - val_loss: 0.4086 - val_acc: 0.8578\n",
            "Epoch 3/20\n",
            "750/750 - 1s - loss: 0.3868 - acc: 0.8620 - val_loss: 0.3947 - val_acc: 0.8612\n",
            "Epoch 4/20\n",
            "750/750 - 1s - loss: 0.3618 - acc: 0.8704 - val_loss: 0.3895 - val_acc: 0.8607\n",
            "Epoch 5/20\n",
            "750/750 - 1s - loss: 0.3449 - acc: 0.8758 - val_loss: 0.3753 - val_acc: 0.8690\n",
            "Epoch 6/20\n",
            "750/750 - 1s - loss: 0.3283 - acc: 0.8806 - val_loss: 0.3484 - val_acc: 0.8783\n",
            "Epoch 7/20\n",
            "750/750 - 1s - loss: 0.3167 - acc: 0.8856 - val_loss: 0.3467 - val_acc: 0.8789\n",
            "Epoch 8/20\n",
            "750/750 - 1s - loss: 0.3049 - acc: 0.8901 - val_loss: 0.3495 - val_acc: 0.8737\n",
            "Epoch 9/20\n",
            "750/750 - 1s - loss: 0.2957 - acc: 0.8927 - val_loss: 0.3452 - val_acc: 0.8788\n",
            "Epoch 10/20\n",
            "750/750 - 1s - loss: 0.2891 - acc: 0.8948 - val_loss: 0.3831 - val_acc: 0.8703\n",
            "Epoch 11/20\n",
            "750/750 - 1s - loss: 0.2789 - acc: 0.8985 - val_loss: 0.3443 - val_acc: 0.8807\n",
            "Epoch 12/20\n",
            "750/750 - 1s - loss: 0.2733 - acc: 0.8997 - val_loss: 0.3453 - val_acc: 0.8780\n",
            "Epoch 13/20\n",
            "750/750 - 1s - loss: 0.2652 - acc: 0.9028 - val_loss: 0.3395 - val_acc: 0.8822\n",
            "Epoch 14/20\n",
            "750/750 - 1s - loss: 0.2576 - acc: 0.9062 - val_loss: 0.3287 - val_acc: 0.8853\n",
            "Epoch 15/20\n",
            "750/750 - 1s - loss: 0.2538 - acc: 0.9070 - val_loss: 0.3242 - val_acc: 0.8870\n",
            "Epoch 16/20\n",
            "750/750 - 1s - loss: 0.2465 - acc: 0.9098 - val_loss: 0.3279 - val_acc: 0.8870\n",
            "Epoch 17/20\n",
            "750/750 - 1s - loss: 0.2425 - acc: 0.9109 - val_loss: 0.3291 - val_acc: 0.8886\n",
            "Epoch 18/20\n",
            "750/750 - 1s - loss: 0.2378 - acc: 0.9133 - val_loss: 0.3385 - val_acc: 0.8822\n",
            "Epoch 19/20\n",
            "750/750 - 1s - loss: 0.2335 - acc: 0.9153 - val_loss: 0.3389 - val_acc: 0.8857\n",
            "Epoch 20/20\n",
            "750/750 - 1s - loss: 0.2281 - acc: 0.9166 - val_loss: 0.3600 - val_acc: 0.8792\n"
          ],
          "name": "stdout"
        }
      ]
    },
    {
      "cell_type": "code",
      "metadata": {
        "colab": {
          "base_uri": "https://localhost:8080/",
          "height": 334
        },
        "id": "AnwaYP7yUmIp",
        "outputId": "9d84eadd-1679-42ef-eddf-f721ee3871ba"
      },
      "source": [
        "#손실 함수 그래프\r\n",
        "def plot_loss_curve(history, total_epoch=10, start=1):\r\n",
        "  plt.figure(figsize=(5, 5))\r\n",
        "  plt.plot(range(start, total_epoch + 1),\r\n",
        "           history.history['loss'][start-1:total_epoch],\r\n",
        "           label='Train')\r\n",
        "  plt.plot(range(start, total_epoch + 1),\r\n",
        "           history.history['val_loss'][start-1:total_epoch],\r\n",
        "           label='Validation')\r\n",
        "  plt.xlabel('Epochs')\r\n",
        "  plt.ylabel('Loss')\r\n",
        "  plt.legend()\r\n",
        "  plt.show()\r\n",
        "\r\n",
        "plot_loss_curve(history=mlp_history, total_epoch=20, start=1)"
      ],
      "execution_count": 15,
      "outputs": [
        {
          "output_type": "display_data",
          "data": {
            "image/png": "[encoded data removed]",
            "text/plain": [
              "<Figure size 360x360 with 1 Axes>"
            ]
          },
          "metadata": {
            "tags": [],
            "needs_background": "light"
          }
        }
      ]
    },
    {
      "cell_type": "code",
      "metadata": {
        "colab": {
          "base_uri": "https://localhost:8080/"
        },
        "id": "lyY2rc1wxoda",
        "outputId": "d6c4d414-39bd-4bff-9a56-d9fe063b234c"
      },
      "source": [
        "#CNN 모델 학습\r\n",
        "from tensorflow.keras.layers import Conv2D, MaxPooling2D\r\n",
        "cnn_model = Sequential()\r\n",
        "cnn_model.add(Conv2D(filters=16, kernel_size=(3, 3),\r\n",
        "                     activation='relu', input_shape=[28, 28, 1]))\r\n",
        "cnn_model.add(MaxPooling2D(pool_size=(2, 2)))\r\n",
        "cnn_model.add(Flatten())\r\n",
        "cnn_model.add(Dense(units=64, activation='relu'))\r\n",
        "cnn_model.add(Dense(units=10, activation='softmax'))\r\n",
        "\r\n",
        "cnn_model.compile(optimizer='adam',\r\n",
        "              loss='sparse_categorical_crossentropy',\r\n",
        "              metrics=['acc'])\r\n",
        "cnn_model.summary()"
      ],
      "execution_count": 16,
      "outputs": [
        {
          "output_type": "stream",
          "text": [
            "Model: \"sequential_1\"\n",
            "_________________________________________________________________\n",
            "Layer (type)                 Output Shape              Param #   \n",
            "=================================================================\n",
            "conv2d (Conv2D)              (None, 26, 26, 16)        160       \n",
            "_________________________________________________________________\n",
            "max_pooling2d (MaxPooling2D) (None, 13, 13, 16)        0         \n",
            "_________________________________________________________________\n",
            "flatten_1 (Flatten)          (None, 2704)              0         \n",
            "_________________________________________________________________\n",
            "dense_2 (Dense)              (None, 64)                173120    \n",
            "_________________________________________________________________\n",
            "dense_3 (Dense)              (None, 10)                650       \n",
            "=================================================================\n",
            "Total params: 173,930\n",
            "Trainable params: 173,930\n",
            "Non-trainable params: 0\n",
            "_________________________________________________________________\n"
          ],
          "name": "stdout"
        }
      ]
    },
    {
      "cell_type": "code",
      "metadata": {
        "colab": {
          "base_uri": "https://localhost:8080/"
        },
        "id": "r0Hsocx-OqRU",
        "outputId": "2f2b704f-4033-46c0-b5b9-f916385c73e3"
      },
      "source": [
        "cnn_history = cnn_model.fit(x_tr, y_tr, batch_size=64, epochs=20,\r\n",
        "                    validation_data=(x_val, y_val),\r\n",
        "                    verbose=2)"
      ],
      "execution_count": 17,
      "outputs": [
        {
          "output_type": "stream",
          "text": [
            "Epoch 1/20\n",
            "750/750 - 31s - loss: 0.4936 - acc: 0.8275 - val_loss: 0.3732 - val_acc: 0.8670\n",
            "Epoch 2/20\n",
            "750/750 - 1s - loss: 0.3334 - acc: 0.8817 - val_loss: 0.3091 - val_acc: 0.8927\n",
            "Epoch 3/20\n",
            "750/750 - 1s - loss: 0.2894 - acc: 0.8973 - val_loss: 0.3006 - val_acc: 0.8934\n",
            "Epoch 4/20\n",
            "750/750 - 1s - loss: 0.2606 - acc: 0.9067 - val_loss: 0.2851 - val_acc: 0.8963\n",
            "Epoch 5/20\n",
            "750/750 - 1s - loss: 0.2386 - acc: 0.9149 - val_loss: 0.2886 - val_acc: 0.8998\n",
            "Epoch 6/20\n",
            "750/750 - 1s - loss: 0.2198 - acc: 0.9212 - val_loss: 0.2665 - val_acc: 0.9043\n",
            "Epoch 7/20\n",
            "750/750 - 1s - loss: 0.2003 - acc: 0.9276 - val_loss: 0.2652 - val_acc: 0.9047\n",
            "Epoch 8/20\n",
            "750/750 - 1s - loss: 0.1838 - acc: 0.9334 - val_loss: 0.2565 - val_acc: 0.9074\n",
            "Epoch 9/20\n",
            "750/750 - 1s - loss: 0.1709 - acc: 0.9388 - val_loss: 0.2515 - val_acc: 0.9137\n",
            "Epoch 10/20\n",
            "750/750 - 1s - loss: 0.1605 - acc: 0.9417 - val_loss: 0.2586 - val_acc: 0.9095\n",
            "Epoch 11/20\n",
            "750/750 - 1s - loss: 0.1488 - acc: 0.9456 - val_loss: 0.2611 - val_acc: 0.9147\n",
            "Epoch 12/20\n",
            "750/750 - 1s - loss: 0.1403 - acc: 0.9494 - val_loss: 0.2948 - val_acc: 0.9013\n",
            "Epoch 13/20\n",
            "750/750 - 1s - loss: 0.1264 - acc: 0.9554 - val_loss: 0.2738 - val_acc: 0.9116\n",
            "Epoch 14/20\n",
            "750/750 - 1s - loss: 0.1185 - acc: 0.9572 - val_loss: 0.2681 - val_acc: 0.9130\n",
            "Epoch 15/20\n",
            "750/750 - 1s - loss: 0.1092 - acc: 0.9611 - val_loss: 0.2702 - val_acc: 0.9141\n",
            "Epoch 16/20\n",
            "750/750 - 1s - loss: 0.0996 - acc: 0.9647 - val_loss: 0.2809 - val_acc: 0.9149\n",
            "Epoch 17/20\n",
            "750/750 - 1s - loss: 0.0947 - acc: 0.9664 - val_loss: 0.2853 - val_acc: 0.9137\n",
            "Epoch 18/20\n",
            "750/750 - 1s - loss: 0.0863 - acc: 0.9694 - val_loss: 0.2782 - val_acc: 0.9166\n",
            "Epoch 19/20\n",
            "750/750 - 1s - loss: 0.0778 - acc: 0.9732 - val_loss: 0.3099 - val_acc: 0.9103\n",
            "Epoch 20/20\n",
            "750/750 - 1s - loss: 0.0712 - acc: 0.9763 - val_loss: 0.3150 - val_acc: 0.9127\n"
          ],
          "name": "stdout"
        }
      ]
    },
    {
      "cell_type": "code",
      "metadata": {
        "colab": {
          "base_uri": "https://localhost:8080/",
          "height": 334
        },
        "id": "vDg2KWokOzHd",
        "outputId": "ff92a5b6-d803-493f-936a-ababc0d7c2c9"
      },
      "source": [
        "plot_loss_curve(history=cnn_history, total_epoch=20, start=1)"
      ],
      "execution_count": 18,
      "outputs": [
        {
          "output_type": "display_data",
          "data": {
            "image/png": "[encoded data removed]",
            "text/plain": [
              "<Figure size 360x360 with 1 Axes>"
            ]
          },
          "metadata": {
            "tags": [],
            "needs_background": "light"
          }
        }
      ]
    },
    {
      "cell_type": "code",
      "metadata": {
        "colab": {
          "base_uri": "https://localhost:8080/"
        },
        "id": "hjQAo-rBQAj3",
        "outputId": "4f620d58-ee08-4912-c8a5-6f72768d3f0e"
      },
      "source": [
        "#과대적합 방지\r\n",
        "from tensorflow.keras.layers import Dropout\r\n",
        "def build_cnn():\r\n",
        "  model = Sequential()\r\n",
        "  model.add(Conv2D(filters=16, kernel_size=(3, 3),\r\n",
        "                   activation='relu', input_shape=[28, 28, 1]))\r\n",
        "  model.add(MaxPooling2D(pool_size=(2, 2)))\r\n",
        "  model.add(Flatten())\r\n",
        "  model.add(Dense(units=64, activation='relu'))\r\n",
        "  model.add(Dropout(rate=0.5))\r\n",
        "  model.add(Dense(units=10, activation='softmax'))\r\n",
        "\r\n",
        "  model.compile(optimizer='adam',\r\n",
        "                loss='sparse_categorical_crossentropy',\r\n",
        "                metrics=['acc'])\r\n",
        "  \r\n",
        "  return model\r\n",
        "\r\n",
        "cnn_model = build_cnn()\r\n",
        "cnn_model.summary()"
      ],
      "execution_count": 19,
      "outputs": [
        {
          "output_type": "stream",
          "text": [
            "Model: \"sequential_2\"\n",
            "_________________________________________________________________\n",
            "Layer (type)                 Output Shape              Param #   \n",
            "=================================================================\n",
            "conv2d_1 (Conv2D)            (None, 26, 26, 16)        160       \n",
            "_________________________________________________________________\n",
            "max_pooling2d_1 (MaxPooling2 (None, 13, 13, 16)        0         \n",
            "_________________________________________________________________\n",
            "flatten_2 (Flatten)          (None, 2704)              0         \n",
            "_________________________________________________________________\n",
            "dense_4 (Dense)              (None, 64)                173120    \n",
            "_________________________________________________________________\n",
            "dropout (Dropout)            (None, 64)                0         \n",
            "_________________________________________________________________\n",
            "dense_5 (Dense)              (None, 10)                650       \n",
            "=================================================================\n",
            "Total params: 173,930\n",
            "Trainable params: 173,930\n",
            "Non-trainable params: 0\n",
            "_________________________________________________________________\n"
          ],
          "name": "stdout"
        }
      ]
    },
    {
      "cell_type": "code",
      "metadata": {
        "colab": {
          "base_uri": "https://localhost:8080/"
        },
        "id": "8KqHPR3Iixqi",
        "outputId": "978c77ae-701a-4d74-eff0-2437ae47f60b"
      },
      "source": [
        "cnn_history = cnn_model.fit(x_tr, y_tr, batch_size=64, epochs=20,\r\n",
        "                    validation_data=(x_val, y_val),\r\n",
        "                    verbose=2)"
      ],
      "execution_count": 20,
      "outputs": [
        {
          "output_type": "stream",
          "text": [
            "Epoch 1/20\n",
            "750/750 - 2s - loss: 0.6783 - acc: 0.7632 - val_loss: 0.3963 - val_acc: 0.8597\n",
            "Epoch 2/20\n",
            "750/750 - 1s - loss: 0.4605 - acc: 0.8389 - val_loss: 0.3353 - val_acc: 0.8775\n",
            "Epoch 3/20\n",
            "750/750 - 1s - loss: 0.4030 - acc: 0.8578 - val_loss: 0.3143 - val_acc: 0.8882\n",
            "Epoch 4/20\n",
            "750/750 - 1s - loss: 0.3729 - acc: 0.8693 - val_loss: 0.2975 - val_acc: 0.8929\n",
            "Epoch 5/20\n",
            "750/750 - 1s - loss: 0.3477 - acc: 0.8761 - val_loss: 0.2869 - val_acc: 0.8980\n",
            "Epoch 6/20\n",
            "750/750 - 1s - loss: 0.3335 - acc: 0.8823 - val_loss: 0.2910 - val_acc: 0.8935\n",
            "Epoch 7/20\n",
            "750/750 - 1s - loss: 0.3165 - acc: 0.8869 - val_loss: 0.2762 - val_acc: 0.9007\n",
            "Epoch 8/20\n",
            "750/750 - 1s - loss: 0.3070 - acc: 0.8889 - val_loss: 0.2665 - val_acc: 0.9042\n",
            "Epoch 9/20\n",
            "750/750 - 1s - loss: 0.2979 - acc: 0.8925 - val_loss: 0.2666 - val_acc: 0.9018\n",
            "Epoch 10/20\n",
            "750/750 - 1s - loss: 0.2861 - acc: 0.8965 - val_loss: 0.2667 - val_acc: 0.9048\n",
            "Epoch 11/20\n",
            "750/750 - 1s - loss: 0.2798 - acc: 0.8982 - val_loss: 0.2667 - val_acc: 0.9026\n",
            "Epoch 12/20\n",
            "750/750 - 1s - loss: 0.2653 - acc: 0.9033 - val_loss: 0.2690 - val_acc: 0.9084\n",
            "Epoch 13/20\n",
            "750/750 - 1s - loss: 0.2639 - acc: 0.9025 - val_loss: 0.2757 - val_acc: 0.9009\n",
            "Epoch 14/20\n",
            "750/750 - 1s - loss: 0.2583 - acc: 0.9060 - val_loss: 0.2688 - val_acc: 0.9067\n",
            "Epoch 15/20\n",
            "750/750 - 1s - loss: 0.2507 - acc: 0.9067 - val_loss: 0.2582 - val_acc: 0.9080\n",
            "Epoch 16/20\n",
            "750/750 - 1s - loss: 0.2460 - acc: 0.9086 - val_loss: 0.2655 - val_acc: 0.9061\n",
            "Epoch 17/20\n",
            "750/750 - 1s - loss: 0.2369 - acc: 0.9122 - val_loss: 0.2656 - val_acc: 0.9068\n",
            "Epoch 18/20\n",
            "750/750 - 1s - loss: 0.2362 - acc: 0.9113 - val_loss: 0.2632 - val_acc: 0.9060\n",
            "Epoch 19/20\n",
            "750/750 - 1s - loss: 0.2315 - acc: 0.9120 - val_loss: 0.2726 - val_acc: 0.9085\n",
            "Epoch 20/20\n",
            "750/750 - 1s - loss: 0.2236 - acc: 0.9157 - val_loss: 0.2689 - val_acc: 0.9080\n"
          ],
          "name": "stdout"
        }
      ]
    },
    {
      "cell_type": "code",
      "metadata": {
        "colab": {
          "base_uri": "https://localhost:8080/",
          "height": 337
        },
        "id": "2SfcY4FFjv0F",
        "outputId": "8ad31d54-3008-4f61-ce26-4f088a307c33"
      },
      "source": [
        "plot_loss_curve(history=cnn_history, total_epoch=20, start=1)"
      ],
      "execution_count": 21,
      "outputs": [
        {
          "output_type": "display_data",
          "data": {
            "image/png": "[encoded data removed]",
            "text/plain": [
              "<Figure size 360x360 with 1 Axes>"
            ]
          },
          "metadata": {
            "tags": [],
            "needs_background": "light"
          }
        }
      ]
    },
    {
      "cell_type": "code",
      "metadata": {
        "id": "trIq4afBq3Xs"
      },
      "source": [
        "#리더보드 제출\r\n",
        "y_pred_proba = cnn_model.predict(X_test)\r\n",
        "y_pred_classes = np.argmax(y_pred_proba, axis=-1)\r\n",
        "submission['label'] = y_pred_classes\r\n",
        "submission_filepath = drive_path + 'mnist_data/mnist_cnn_submission1.csv'\r\n",
        "submission.to_csv(submission_filepath, index=False)"
      ],
      "execution_count": 22,
      "outputs": []
    }
  ]
}